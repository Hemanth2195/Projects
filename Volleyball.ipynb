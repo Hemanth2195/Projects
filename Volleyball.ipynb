{
 "cells": [
  {
   "cell_type": "markdown",
   "metadata": {},
   "source": [
    "#### code explination is at the end|"
   ]
  },
  {
   "cell_type": "code",
   "execution_count": 1,
   "metadata": {},
   "outputs": [],
   "source": [
    "import datetime\n",
    "class VolleyBall:\n",
    "    def __init__(self,occasion):\n",
    "        self.occasion=occasion\n",
    "        self.status=None \n",
    "        self.score_board={}\n",
    "        \n",
    "    def match_details(self):\n",
    "        print('here you need to enter the required math details')\n",
    "        self.team1=input('team-1: ')\n",
    "        self.team2=input('team-2: ')\n",
    "        self.date=input('date (dd/mm/yyyy): ')\n",
    "        self.time=input('time: (hh:mm)')\n",
    "        self.sets=int(input('sets: ')) \n",
    "        self.court=input('court: ')\n",
    "        return \n",
    "    \n",
    "    def match(self,set_no,points): # set_no=what is set (1 or 2 or..) and no.of points in the set\n",
    "        self.status=f'set {set_no} started' \n",
    "        s={}\n",
    "        print('enter the points, if team-1 got point-> t1, if team-2 got point-> t2, if it is a common point-> t12')\n",
    "        print(f'team-1 is: {self.team1} and team-2 is: {self.team2}')\n",
    "        s['start_time']=datetime.datetime.now() \n",
    "        T1,T2=0,0\n",
    "        while True:\n",
    "            p = input()\n",
    "            if p=='t1':\n",
    "                T1+=1\n",
    "            elif p=='t2':\n",
    "                T2+=1\n",
    "            elif p=='t12':\n",
    "                T1+=1\n",
    "                T2+=1\n",
    "            else:\n",
    "                print('enter a valid input')\n",
    "            score = f'Scores are:- team-1:{T1} | team-2:{T2}'\n",
    "            s[datetime.datetime.now()] = score \n",
    "            print(score)\n",
    "            if T1>=points and (T1-T2)>=2: \n",
    "                s['winner']=self.team1\n",
    "                print(f'{self.team1} won the set {set_no}') \n",
    "                break \n",
    "            if T2>=points and (T2-T1)>=2: \n",
    "                s['winner']=self.team2\n",
    "                print(f'{self.team2} won the set {set_no}')\n",
    "                break \n",
    "        s['end_time']=datetime.datetime.now() \n",
    "        self.score_board[f'set{set_no}']=s.copy() \n",
    "        return f'set {set_no} completed '  \n",
    "    \n",
    "    def summary(self):\n",
    "        if self.status is None: \n",
    "            return 'match not at started'\n",
    "        print(f'{self.team1} vs {self.team2} on {self.date} {self.time} at {self.court} best of {self.sets}')  \n",
    "        print('\\n')\n",
    "        t1,t2,s1=0,0,0 \n",
    "        for s in self.score_board.keys():\n",
    "            print(f'scores in {s}') \n",
    "            for i,j in self.score_board[s].items():\n",
    "                print(i,end=' ')\n",
    "                print(j)\n",
    "            if self.score_board[s]['winner']==self.team1:\n",
    "                t1+=1\n",
    "            if self.score_board[s]['winner']==self.team2:\n",
    "                t2+=1\n",
    "            print('\\n')\n",
    "            s1+=1\n",
    "        self.status=f'team-1 won {t1} sets and team-2 won {t2} sets' \n",
    "        if t1-t2==2 or (s1==self.sets and t1-t2==1): \n",
    "            return f'{self.team1} won the match as {t1}-{t2}' \n",
    "        if t2-t1==2 or (s1==self.sets and t2-t1==1): \n",
    "            return f'{self.team2} won the match as {t2}-{t1}' "
   ]
  },
  {
   "cell_type": "markdown",
   "metadata": {},
   "source": [
    "here i am creating a object of the class VolleyBall which represents a match between 2 teams"
   ]
  },
  {
   "cell_type": "code",
   "execution_count": 9,
   "metadata": {},
   "outputs": [
    {
     "name": "stdout",
     "output_type": "stream",
     "text": [
      "here you need to enter the required math details\n",
      "team-1: rajiv\n",
      "team-2: cautle\n",
      "date (dd/mm/yyyy): 28/07/2021\n",
      "time: (hh:mm)10:30\n",
      "sets: 3\n",
      "court: court-1\n"
     ]
    }
   ],
   "source": [
    "c1=VolleyBall('inter_bhawan')\n",
    "#entering the details related to the match\n",
    "c1.match_details()"
   ]
  },
  {
   "cell_type": "markdown",
   "metadata": {},
   "source": [
    "initiating a match (i.,e set) function to add the scores. for simlisity just considering match is of 5 points"
   ]
  },
  {
   "cell_type": "code",
   "execution_count": 3,
   "metadata": {},
   "outputs": [
    {
     "name": "stdout",
     "output_type": "stream",
     "text": [
      "enter the points, if team-1 got point-> t1, if team-2 got point-> t2, if it is a common point-> t12\n",
      "team-1 is: rajiv and team-2 is: cautle\n",
      "t1\n",
      "Scores are:- team-1:1 | team-2:0\n",
      "t2\n",
      "Scores are:- team-1:1 | team-2:1\n",
      "t1\n",
      "Scores are:- team-1:2 | team-2:1\n",
      "t1\n",
      "Scores are:- team-1:3 | team-2:1\n",
      "t1\n",
      "Scores are:- team-1:4 | team-2:1\n",
      "t2\n",
      "Scores are:- team-1:4 | team-2:2\n",
      "t1\n",
      "Scores are:- team-1:5 | team-2:2\n",
      "rajiv won the set 1\n"
     ]
    },
    {
     "data": {
      "text/plain": [
       "'set 1 completed '"
      ]
     },
     "execution_count": 3,
     "metadata": {},
     "output_type": "execute_result"
    }
   ],
   "source": [
    "c1.match(1,5) #for set 1"
   ]
  },
  {
   "cell_type": "code",
   "execution_count": 4,
   "metadata": {},
   "outputs": [
    {
     "name": "stdout",
     "output_type": "stream",
     "text": [
      "enter the points, if team-1 got point-> t1, if team-2 got point-> t2, if it is a common point-> t12\n",
      "team-1 is: rajiv and team-2 is: cautle\n",
      "t2\n",
      "Scores are:- team-1:0 | team-2:1\n",
      "t1\n",
      "Scores are:- team-1:1 | team-2:1\n",
      "t2\n",
      "Scores are:- team-1:1 | team-2:2\n",
      "t2\n",
      "Scores are:- team-1:1 | team-2:3\n",
      "t2\n",
      "Scores are:- team-1:1 | team-2:4\n",
      "t2\n",
      "Scores are:- team-1:1 | team-2:5\n",
      "cautle won the set 2\n"
     ]
    },
    {
     "data": {
      "text/plain": [
       "'set 2 completed '"
      ]
     },
     "execution_count": 4,
     "metadata": {},
     "output_type": "execute_result"
    }
   ],
   "source": [
    "c1.match(2,5) #set 2"
   ]
  },
  {
   "cell_type": "code",
   "execution_count": 5,
   "metadata": {},
   "outputs": [
    {
     "name": "stdout",
     "output_type": "stream",
     "text": [
      "enter the points, if team-1 got point-> t1, if team-2 got point-> t2, if it is a common point-> t12\n",
      "team-1 is: rajiv and team-2 is: cautle\n",
      "t1\n",
      "Scores are:- team-1:1 | team-2:0\n",
      "t1\n",
      "Scores are:- team-1:2 | team-2:0\n",
      "t1\n",
      "Scores are:- team-1:3 | team-2:0\n",
      "t2\n",
      "Scores are:- team-1:3 | team-2:1\n",
      "t1\n",
      "Scores are:- team-1:4 | team-2:1\n",
      "t1\n",
      "Scores are:- team-1:5 | team-2:1\n",
      "rajiv won the set 3\n"
     ]
    },
    {
     "data": {
      "text/plain": [
       "'set 3 completed '"
      ]
     },
     "execution_count": 5,
     "metadata": {},
     "output_type": "execute_result"
    }
   ],
   "source": [
    "c1.match(3,5) #set 3"
   ]
  },
  {
   "cell_type": "code",
   "execution_count": 6,
   "metadata": {},
   "outputs": [
    {
     "name": "stdout",
     "output_type": "stream",
     "text": [
      "rajiv vs cautle on 10/02/2021 10:30 at court-1 best of 3\n",
      "\n",
      "\n",
      "scores in set1\n",
      "start_time 2021-07-28 15:06:38.822408\n",
      "2021-07-28 15:06:40.028538 Scores are:- team-1:1 | team-2:0\n",
      "2021-07-28 15:06:40.836103 Scores are:- team-1:1 | team-2:1\n",
      "2021-07-28 15:06:41.749754 Scores are:- team-1:2 | team-2:1\n",
      "2021-07-28 15:06:42.514044 Scores are:- team-1:3 | team-2:1\n",
      "2021-07-28 15:06:43.107582 Scores are:- team-1:4 | team-2:1\n",
      "2021-07-28 15:06:44.601784 Scores are:- team-1:4 | team-2:2\n",
      "2021-07-28 15:06:47.365008 Scores are:- team-1:5 | team-2:2\n",
      "winner rajiv\n",
      "end_time 2021-07-28 15:06:47.365008\n",
      "\n",
      "\n",
      "scores in set2\n",
      "start_time 2021-07-28 15:06:54.608039\n",
      "2021-07-28 15:06:56.178753 Scores are:- team-1:0 | team-2:1\n",
      "2021-07-28 15:06:56.958431 Scores are:- team-1:1 | team-2:1\n",
      "2021-07-28 15:06:58.700505 Scores are:- team-1:1 | team-2:2\n",
      "2021-07-28 15:06:59.260693 Scores are:- team-1:1 | team-2:3\n",
      "2021-07-28 15:06:59.798356 Scores are:- team-1:1 | team-2:4\n",
      "2021-07-28 15:07:00.358272 Scores are:- team-1:1 | team-2:5\n",
      "winner cautle\n",
      "end_time 2021-07-28 15:07:00.359247\n",
      "\n",
      "\n",
      "scores in set3\n",
      "start_time 2021-07-28 15:07:02.807975\n",
      "2021-07-28 15:07:04.810885 Scores are:- team-1:1 | team-2:0\n",
      "2021-07-28 15:07:07.060330 Scores are:- team-1:2 | team-2:0\n",
      "2021-07-28 15:07:08.029433 Scores are:- team-1:3 | team-2:0\n",
      "2021-07-28 15:07:08.955168 Scores are:- team-1:3 | team-2:1\n",
      "2021-07-28 15:07:09.787492 Scores are:- team-1:4 | team-2:1\n",
      "2021-07-28 15:07:10.370368 Scores are:- team-1:5 | team-2:1\n",
      "winner rajiv\n",
      "end_time 2021-07-28 15:07:10.371347\n",
      "\n",
      "\n"
     ]
    },
    {
     "data": {
      "text/plain": [
       "'rajiv won the match as 2-1'"
      ]
     },
     "execution_count": 6,
     "metadata": {},
     "output_type": "execute_result"
    }
   ],
   "source": [
    "c1.summary()"
   ]
  },
  {
   "cell_type": "code",
   "execution_count": 7,
   "metadata": {},
   "outputs": [
    {
     "data": {
      "text/plain": [
       "'rajiv'"
      ]
     },
     "execution_count": 7,
     "metadata": {},
     "output_type": "execute_result"
    }
   ],
   "source": [
    "c1.score_board['set1']['winner']"
   ]
  },
  {
   "cell_type": "markdown",
   "metadata": {},
   "source": [
    "### Explination"
   ]
  },
  {
   "cell_type": "markdown",
   "metadata": {},
   "source": [
    "The class VolleyBall is used for storing all the details related to a volleyball match.\n",
    "\n",
    "we can create an object of this class and this object will enable us to store all the match related data.\n",
    "\n",
    "#### functions\n",
    "\n",
    "    when object of VolleyBall is created it we will pass a parameter \n",
    "        self.occasion-> which represents the occasion of the match\n",
    "        self.status-> will store the status of the match ('not at started' or 'started' or who won the match)\n",
    "        self.score_board-> stores score w.r.t time for a given set.\n",
    "            score_board strucure :  it is dictionary\n",
    "                                    set number as keys,\n",
    "                                    each value corresponding set number is a dctionary which contains time and the scores.\n",
    "    \n",
    "    match_details: initiating this function will ask for these details:-\n",
    "                           self.team1 - name of team-1\n",
    "                           self.team2 - name of team-2\n",
    "                           self.date  - date on which the match is to be held\n",
    "                           self.time  - time ....\n",
    "                           self.sets  - no.of sets in the match \n",
    "                           self.court - court where the match will be held\n",
    "                   all these variables are stored with respect to the VolleyBall object we create, and we can retreive any of                            these variable.\n",
    "                           assumption: here i have assumed that we adding the score for a live match, so the date and time\n",
    "                           correponds to the actual time when the match is taking place in the self.score_board.\n",
    "\n",
    "    match: need to pass 2 variables\n",
    "                set_no - which set is going to start\n",
    "                points - the set will be of how many points\n",
    "          after initiating this function we need to enter t1 or t2 if team-1 or team-2 got a point respectively. if it is                    common point we will enter t12\n",
    "          we will give input untill the set is over. if the set is over we wil break out of the while loop.\n",
    "          this function also stores the points of each time w.r.t the time in the self.score_board variable.\n",
    "          at last this function will print which team won the match\n",
    "          \n",
    "    summary: this function will return all the details about the match till the time of calling this function.\n",
    "      "
   ]
  },
  {
   "cell_type": "code",
   "execution_count": null,
   "metadata": {},
   "outputs": [],
   "source": []
  }
 ],
 "metadata": {
  "kernelspec": {
   "display_name": "Python 3",
   "language": "python",
   "name": "python3"
  },
  "language_info": {
   "codemirror_mode": {
    "name": "ipython",
    "version": 3
   },
   "file_extension": ".py",
   "mimetype": "text/x-python",
   "name": "python",
   "nbconvert_exporter": "python",
   "pygments_lexer": "ipython3",
   "version": "3.7.6"
  },
  "varInspector": {
   "cols": {
    "lenName": 16,
    "lenType": 16,
    "lenVar": 40
   },
   "kernels_config": {
    "python": {
     "delete_cmd_postfix": "",
     "delete_cmd_prefix": "del ",
     "library": "var_list.py",
     "varRefreshCmd": "print(var_dic_list())"
    },
    "r": {
     "delete_cmd_postfix": ") ",
     "delete_cmd_prefix": "rm(",
     "library": "var_list.r",
     "varRefreshCmd": "cat(var_dic_list()) "
    }
   },
   "types_to_exclude": [
    "module",
    "function",
    "builtin_function_or_method",
    "instance",
    "_Feature"
   ],
   "window_display": false
  }
 },
 "nbformat": 4,
 "nbformat_minor": 4
}
